{
 "cells": [
  {
   "cell_type": "markdown",
   "metadata": {},
   "source": [
    "# 0 - Setup Notebook Pod"
   ]
  },
  {
   "cell_type": "markdown",
   "metadata": {},
   "source": [
    "## 0.1 - Run in Jupyter Bash Terminal\n",
    "```bash\n",
    "# create application-default credentials\n",
    "gcloud auth application-default login\n",
    "\n",
    "# pip install python library\n",
    "pip install google-cloud-storage\n",
    "```"
   ]
  },
  {
   "cell_type": "markdown",
   "metadata": {},
   "source": [
    "# 1 - Basic GCS"
   ]
  },
  {
   "cell_type": "markdown",
   "metadata": {},
   "source": [
    "## 1.0 - Docs\n",
    "* https://googleapis.dev/python/storage/latest/\n",
    "* https://googleapis.dev/python/storage/latest/client.html#google.cloud.storage.client.Client.list_blobs"
   ]
  },
  {
   "cell_type": "markdown",
   "metadata": {},
   "source": [
    "## 1.1 - List FILES & FOLDERS in bucket"
   ]
  },
  {
   "cell_type": "code",
   "execution_count": null,
   "metadata": {},
   "outputs": [],
   "source": [
    "from google.cloud import storage\n",
    "\n",
    "billing_project = \"<<<MY_PROJECT>>>\"\n",
    "bucket_name = \"<<MY_BUCKET>>\"\n",
    "sub_path = \"example/\"\n",
    "\n",
    "client = storage.Client(billing_project)\n",
    "bucket = client.get_bucket(bucket_name)\n",
    "blobs = client.list_blobs(bucket, prefix=sub_path)\n",
    "all_blobs = list(blobs) # important! ensures we loop through all HTTP pages\n",
    "\n",
    "print()\n",
    "print(\"----------------\")\n",
    "print(f\"Blobs under: `gs://{bucket_name}/{sub_path}`\")\n",
    "print(\"----------------\")\n",
    "for num, blob in enumerate(all_blobs):\n",
    "    if num >= 20:\n",
    "        print(\"...\")\n",
    "        break\n",
    "    print(blob.name)"
   ]
  },
  {
   "cell_type": "markdown",
   "metadata": {},
   "source": [
    "## 1.2 - List FOLDERS in bucket"
   ]
  },
  {
   "cell_type": "code",
   "execution_count": null,
   "metadata": {},
   "outputs": [],
   "source": [
    "from google.cloud import storage\n",
    "\n",
    "billing_project = \"<<<MY_PROJECT>>>\"\n",
    "bucket_name = \"<<<MY_BUCKET>>>\"\n",
    "sub_path = \"example/\"\n",
    "sub_path_delimiter = \"/\"\n",
    "\n",
    "client = storage.Client(billing_project)\n",
    "bucket = client.get_bucket(bucket_name)\n",
    "blobs = client.list_blobs(bucket, prefix=sub_path, delimiter=sub_path_delimiter)\n",
    "all_blobs = list(blobs)       # important! ensures we loop through all HTTP pages\n",
    "all_prefixes = blobs.prefixes # seems strange, but this is where the set() folders is \n",
    "\n",
    "print()\n",
    "print(\"----------------\")\n",
    "print(f\"Blobs under: `gs://{bucket_name}/{sub_path}`\")\n",
    "print(f'(NOTE: delimiter = \"{sub_path_delimiter}\")')\n",
    "print(\"----------------\")\n",
    "for num, blob in enumerate(all_blobs):\n",
    "    if num >= 20:\n",
    "        print(\"...\")\n",
    "        break\n",
    "    print(blob.name)\n",
    "\n",
    "print()\n",
    "print(\"----------------\")\n",
    "print(f\"Folders under: `gs://{bucket_name}/{sub_path}`\")\n",
    "print(\"----------------\")\n",
    "for num, folder in enumerate(all_prefixes):\n",
    "    if num >= 20:\n",
    "        print(\"...\")\n",
    "        break\n",
    "    print(folder)"
   ]
  },
  {
   "cell_type": "markdown",
   "metadata": {},
   "source": [
    "# 2 - Advanced Functions"
   ]
  },
  {
   "cell_type": "markdown",
   "metadata": {},
   "source": [
    "## 2.1 - Write STRING File"
   ]
  },
  {
   "cell_type": "code",
   "execution_count": null,
   "metadata": {},
   "outputs": [],
   "source": [
    "from google.cloud.storage import Client, Blob\n",
    "\n",
    "\n",
    "def gcs_write_string(gcs_client: Client,\n",
    "                     gcs_uri: str,\n",
    "                     overwrite: bool,\n",
    "                     file_data: str):\n",
    "    \"\"\"\n",
    "    Create a file in GCS from string data.\n",
    "\n",
    "    :param gcs_client: a running google.cloud.storage.Client()\n",
    "    :param gcs_uri: the GCS URI for the file\n",
    "    :param overwrite: if we should throw an error if the file already exists\n",
    "    :param file_data: the string data of the file\n",
    "    :return the URI of the writen file\n",
    "    \"\"\"\n",
    "    file_blob = Blob.from_string(client=gcs_client, uri=gcs_uri)\n",
    "\n",
    "    # throw error if not overwrite and file exists\n",
    "    if not overwrite:\n",
    "        if file_blob.exists():\n",
    "            raise Exception(f\"file already exists, but overwrite is false: {gcs_uri}\")\n",
    "\n",
    "    file_blob.upload_from_string(client=gcs_client, data=file_data)\n",
    "    return gcs_uri\n",
    "\n",
    "\n",
    "# create GCS Client()\n",
    "billing_project = \"<<<MY_PROJECT>>>\"\n",
    "client = Client(billing_project)\n",
    "\n",
    "# write file\n",
    "out_uri = f\"gs://<<<MY_BUCKET>>>/example/python_test.txt\"\n",
    "file_data = \"Hello World! \" * 100\n",
    "gcs_write_string(gcs_client=client, gcs_uri=out_uri, file_data=file_data, overwrite=True)\n",
    "\n",
    "# link to GUI\n",
    "print()\n",
    "print(\"----------------\")\n",
    "print(\"View in GUI:\")\n",
    "print(f\"https://console.cloud.google.com/storage/browser/${out_uri.lstrip('gs://')}\")\n",
    "print(\"----------------\")"
   ]
  },
  {
   "cell_type": "markdown",
   "metadata": {},
   "source": [
    "## 2.2 - Read STRING file"
   ]
  },
  {
   "cell_type": "code",
   "execution_count": null,
   "metadata": {},
   "outputs": [],
   "source": [
    "from google.cloud.storage import Client, Blob\n",
    "\n",
    "\n",
    "def gcs_read_string(gcs_client: Client,\n",
    "                    gcs_uri: str) -> str:\n",
    "    \"\"\"\n",
    "    Read a file in GCS as a string.\n",
    "\n",
    "    :param gcs_client: a running google.cloud.storage.Client()\n",
    "    :param gcs_uri: the GCS URI of the file\n",
    "    :return: the file as a string object\n",
    "    \"\"\"\n",
    "    file_blob = Blob.from_string(client=gcs_client, uri=gcs_uri)\n",
    "    file_data = file_blob.download_as_string(client=gcs_client).decode(\"utf-8\")\n",
    "    return file_data\n",
    "\n",
    "\n",
    "# create GCS Client()\n",
    "billing_project = \"<<<MY_PROJECT>>>\"\n",
    "client = Client(billing_project)\n",
    "\n",
    "# write file\n",
    "in_uri = f\"gs://<<<MY_BUCKET>>>/example/python_test.txt\"\n",
    "file_data = gcs_read_string(gcs_client=client, gcs_uri=in_uri)\n",
    "\n",
    "print()\n",
    "print(\"-------- File Content --------\")\n",
    "print(file_data)\n",
    "print(\"------------------------------\")"
   ]
  },
  {
   "cell_type": "code",
   "execution_count": null,
   "metadata": {},
   "outputs": [],
   "source": []
  }
 ],
 "metadata": {
  "kernelspec": {
   "display_name": "Python 3",
   "language": "python",
   "name": "python3"
  },
  "language_info": {
   "codemirror_mode": {
    "name": "ipython",
    "version": 3
   },
   "file_extension": ".py",
   "mimetype": "text/x-python",
   "name": "python",
   "nbconvert_exporter": "python",
   "pygments_lexer": "ipython3",
   "version": "3.7.3"
  }
 },
 "nbformat": 4,
 "nbformat_minor": 4
}
